{
 "cells": [
  {
   "cell_type": "markdown",
   "id": "beb6979f",
   "metadata": {},
   "source": [
    "<h1><center>Reconstructing HPGe Detector Waveform Energy</center></h1>"
   ]
  },
  {
   "cell_type": "code",
   "execution_count": 1,
   "id": "da960cf7",
   "metadata": {},
   "outputs": [],
   "source": [
    "import numpy as np\n",
    "import pandas as pd\n",
    "from itertools import combinations\n",
    "import matplotlib.pyplot as plt"
   ]
  },
  {
   "cell_type": "code",
   "execution_count": 2,
   "id": "d5776df9",
   "metadata": {},
   "outputs": [
    {
     "data": {
      "text/html": [
       "<div>\n",
       "<style scoped>\n",
       "    .dataframe tbody tr th:only-of-type {\n",
       "        vertical-align: middle;\n",
       "    }\n",
       "\n",
       "    .dataframe tbody tr th {\n",
       "        vertical-align: top;\n",
       "    }\n",
       "\n",
       "    .dataframe thead th {\n",
       "        text-align: right;\n",
       "    }\n",
       "</style>\n",
       "<table border=\"1\" class=\"dataframe\">\n",
       "  <thead>\n",
       "    <tr style=\"text-align: right;\">\n",
       "      <th></th>\n",
       "      <th>Max_Amp</th>\n",
       "      <th>tDrift50</th>\n",
       "      <th>tDrift90</th>\n",
       "      <th>tDrift100</th>\n",
       "      <th>blnoise</th>\n",
       "      <th>tslope</th>\n",
       "      <th>Energy</th>\n",
       "    </tr>\n",
       "  </thead>\n",
       "  <tbody>\n",
       "    <tr>\n",
       "      <th>0</th>\n",
       "      <td>1233.0</td>\n",
       "      <td>61.0</td>\n",
       "      <td>69.0</td>\n",
       "      <td>81.0</td>\n",
       "      <td>11.5110</td>\n",
       "      <td>-108.1349</td>\n",
       "      <td>461.6230</td>\n",
       "    </tr>\n",
       "    <tr>\n",
       "      <th>1</th>\n",
       "      <td>1319.0</td>\n",
       "      <td>93.0</td>\n",
       "      <td>116.0</td>\n",
       "      <td>135.0</td>\n",
       "      <td>3.7505</td>\n",
       "      <td>-112.9078</td>\n",
       "      <td>510.6010</td>\n",
       "    </tr>\n",
       "    <tr>\n",
       "      <th>2</th>\n",
       "      <td>1237.0</td>\n",
       "      <td>81.0</td>\n",
       "      <td>89.0</td>\n",
       "      <td>104.0</td>\n",
       "      <td>2.3472</td>\n",
       "      <td>-111.2230</td>\n",
       "      <td>463.7562</td>\n",
       "    </tr>\n",
       "    <tr>\n",
       "      <th>3</th>\n",
       "      <td>4469.0</td>\n",
       "      <td>90.0</td>\n",
       "      <td>98.0</td>\n",
       "      <td>112.0</td>\n",
       "      <td>1.8966</td>\n",
       "      <td>-111.4219</td>\n",
       "      <td>1754.7053</td>\n",
       "    </tr>\n",
       "    <tr>\n",
       "      <th>4</th>\n",
       "      <td>796.0</td>\n",
       "      <td>84.0</td>\n",
       "      <td>95.0</td>\n",
       "      <td>117.0</td>\n",
       "      <td>2.9256</td>\n",
       "      <td>-123.4542</td>\n",
       "      <td>271.7369</td>\n",
       "    </tr>\n",
       "    <tr>\n",
       "      <th>...</th>\n",
       "      <td>...</td>\n",
       "      <td>...</td>\n",
       "      <td>...</td>\n",
       "      <td>...</td>\n",
       "      <td>...</td>\n",
       "      <td>...</td>\n",
       "      <td>...</td>\n",
       "    </tr>\n",
       "    <tr>\n",
       "      <th>395</th>\n",
       "      <td>1612.0</td>\n",
       "      <td>33.0</td>\n",
       "      <td>44.0</td>\n",
       "      <td>61.0</td>\n",
       "      <td>1.6828</td>\n",
       "      <td>-112.4374</td>\n",
       "      <td>582.6840</td>\n",
       "    </tr>\n",
       "    <tr>\n",
       "      <th>396</th>\n",
       "      <td>561.0</td>\n",
       "      <td>61.0</td>\n",
       "      <td>69.0</td>\n",
       "      <td>99.0</td>\n",
       "      <td>1.8116</td>\n",
       "      <td>-110.4882</td>\n",
       "      <td>209.8814</td>\n",
       "    </tr>\n",
       "    <tr>\n",
       "      <th>397</th>\n",
       "      <td>459.0</td>\n",
       "      <td>73.0</td>\n",
       "      <td>87.0</td>\n",
       "      <td>101.0</td>\n",
       "      <td>3.8790</td>\n",
       "      <td>-109.1862</td>\n",
       "      <td>165.7746</td>\n",
       "    </tr>\n",
       "    <tr>\n",
       "      <th>398</th>\n",
       "      <td>1091.0</td>\n",
       "      <td>43.0</td>\n",
       "      <td>51.0</td>\n",
       "      <td>68.0</td>\n",
       "      <td>1.9427</td>\n",
       "      <td>-113.4403</td>\n",
       "      <td>402.6300</td>\n",
       "    </tr>\n",
       "    <tr>\n",
       "      <th>399</th>\n",
       "      <td>662.0</td>\n",
       "      <td>92.0</td>\n",
       "      <td>102.0</td>\n",
       "      <td>128.0</td>\n",
       "      <td>6.6590</td>\n",
       "      <td>-108.3920</td>\n",
       "      <td>230.9006</td>\n",
       "    </tr>\n",
       "  </tbody>\n",
       "</table>\n",
       "<p>400 rows × 7 columns</p>\n",
       "</div>"
      ],
      "text/plain": [
       "     Max_Amp  tDrift50  tDrift90  tDrift100  blnoise    tslope     Energy\n",
       "0     1233.0      61.0      69.0       81.0  11.5110 -108.1349   461.6230\n",
       "1     1319.0      93.0     116.0      135.0   3.7505 -112.9078   510.6010\n",
       "2     1237.0      81.0      89.0      104.0   2.3472 -111.2230   463.7562\n",
       "3     4469.0      90.0      98.0      112.0   1.8966 -111.4219  1754.7053\n",
       "4      796.0      84.0      95.0      117.0   2.9256 -123.4542   271.7369\n",
       "..       ...       ...       ...        ...      ...       ...        ...\n",
       "395   1612.0      33.0      44.0       61.0   1.6828 -112.4374   582.6840\n",
       "396    561.0      61.0      69.0       99.0   1.8116 -110.4882   209.8814\n",
       "397    459.0      73.0      87.0      101.0   3.8790 -109.1862   165.7746\n",
       "398   1091.0      43.0      51.0       68.0   1.9427 -113.4403   402.6300\n",
       "399    662.0      92.0     102.0      128.0   6.6590 -108.3920   230.9006\n",
       "\n",
       "[400 rows x 7 columns]"
      ]
     },
     "execution_count": 2,
     "metadata": {},
     "output_type": "execute_result"
    }
   ],
   "source": [
    "waveforms = pd.read_csv('HPGeData.csv')\n",
    "waveforms"
   ]
  },
  {
   "cell_type": "code",
   "execution_count": 3,
   "id": "a399b83d",
   "metadata": {},
   "outputs": [
    {
     "data": {
      "image/png": "[encoded data removed]",
      "text/plain": [
       "<Figure size 432x288 with 1 Axes>"
      ]
     },
     "metadata": {
      "needs_background": "light"
     },
     "output_type": "display_data"
    }
   ],
   "source": [
    "plt.scatter(waveforms['Max_Amp'], waveforms['Energy'])\n",
    "plt.xlabel('Max_Amp')\n",
    "plt.ylabel('Energy')\n",
    "plt.show(block=True)"
   ]
  },
  {
   "cell_type": "code",
   "execution_count": 4,
   "id": "a18e37dd",
   "metadata": {},
   "outputs": [
    {
     "data": {
      "image/png": "[encoded data removed]",
      "text/plain": [
       "<Figure size 432x288 with 1 Axes>"
      ]
     },
     "metadata": {
      "needs_background": "light"
     },
     "output_type": "display_data"
    }
   ],
   "source": [
    "plt.scatter(waveforms['tDrift50'], waveforms['Energy'])\n",
    "plt.xlabel('tDrift50')\n",
    "plt.ylabel('Energy')\n",
    "plt.show(block=True)"
   ]
  },
  {
   "cell_type": "code",
   "execution_count": 5,
   "id": "be2b33e3",
   "metadata": {},
   "outputs": [
    {
     "data": {
      "image/png": "[encoded data removed]",
      "text/plain": [
       "<Figure size 432x288 with 1 Axes>"
      ]
     },
     "metadata": {
      "needs_background": "light"
     },
     "output_type": "display_data"
    }
   ],
   "source": [
    "plt.scatter(waveforms['tDrift100'], waveforms['Energy'])\n",
    "plt.xlabel('tDrift100')\n",
    "plt.ylabel('Energy')\n",
    "plt.show(block=True)"
   ]
  },
  {
   "cell_type": "code",
   "execution_count": 6,
   "id": "fbf810ae",
   "metadata": {},
   "outputs": [
    {
     "data": {
      "image/png": "[encoded data removed]",
      "text/plain": [
       "<Figure size 432x288 with 1 Axes>"
      ]
     },
     "metadata": {
      "needs_background": "light"
     },
     "output_type": "display_data"
    }
   ],
   "source": [
    "plt.scatter(waveforms['blnoise'], waveforms['Energy'])\n",
    "plt.xlabel('blnoise')\n",
    "plt.ylabel('Energy')\n",
    "plt.show(block=True)"
   ]
  },
  {
   "cell_type": "code",
   "execution_count": 7,
   "id": "298b56e6",
   "metadata": {},
   "outputs": [
    {
     "data": {
      "image/png": "[encoded data removed]",
      "text/plain": [
       "<Figure size 432x288 with 1 Axes>"
      ]
     },
     "metadata": {
      "needs_background": "light"
     },
     "output_type": "display_data"
    }
   ],
   "source": [
    "plt.scatter(waveforms['tslope'], waveforms['Energy'])\n",
    "plt.xlabel('tDrift90')\n",
    "plt.ylabel('Energy')\n",
    "plt.show(block=True)"
   ]
  },
  {
   "cell_type": "code",
   "execution_count": 8,
   "id": "fa24e4d5",
   "metadata": {},
   "outputs": [
    {
     "data": {
      "text/html": [
       "<div>\n",
       "<style scoped>\n",
       "    .dataframe tbody tr th:only-of-type {\n",
       "        vertical-align: middle;\n",
       "    }\n",
       "\n",
       "    .dataframe tbody tr th {\n",
       "        vertical-align: top;\n",
       "    }\n",
       "\n",
       "    .dataframe thead th {\n",
       "        text-align: right;\n",
       "    }\n",
       "</style>\n",
       "<table border=\"1\" class=\"dataframe\">\n",
       "  <thead>\n",
       "    <tr style=\"text-align: right;\">\n",
       "      <th></th>\n",
       "      <th>Max_Amp</th>\n",
       "      <th>tDrift50</th>\n",
       "      <th>tDrift90</th>\n",
       "      <th>tDrift100</th>\n",
       "      <th>blnoise</th>\n",
       "      <th>tslope</th>\n",
       "      <th>Energy</th>\n",
       "    </tr>\n",
       "  </thead>\n",
       "  <tbody>\n",
       "    <tr>\n",
       "      <th>0</th>\n",
       "      <td>1233.0</td>\n",
       "      <td>61.0</td>\n",
       "      <td>69.0</td>\n",
       "      <td>81.0</td>\n",
       "      <td>11.5110</td>\n",
       "      <td>-108.1349</td>\n",
       "      <td>461.6230</td>\n",
       "    </tr>\n",
       "    <tr>\n",
       "      <th>1</th>\n",
       "      <td>1319.0</td>\n",
       "      <td>93.0</td>\n",
       "      <td>116.0</td>\n",
       "      <td>135.0</td>\n",
       "      <td>3.7505</td>\n",
       "      <td>-112.9078</td>\n",
       "      <td>510.6010</td>\n",
       "    </tr>\n",
       "    <tr>\n",
       "      <th>2</th>\n",
       "      <td>1237.0</td>\n",
       "      <td>81.0</td>\n",
       "      <td>89.0</td>\n",
       "      <td>104.0</td>\n",
       "      <td>2.3472</td>\n",
       "      <td>-111.2230</td>\n",
       "      <td>463.7562</td>\n",
       "    </tr>\n",
       "    <tr>\n",
       "      <th>3</th>\n",
       "      <td>4469.0</td>\n",
       "      <td>90.0</td>\n",
       "      <td>98.0</td>\n",
       "      <td>112.0</td>\n",
       "      <td>1.8966</td>\n",
       "      <td>-111.4219</td>\n",
       "      <td>1754.7053</td>\n",
       "    </tr>\n",
       "    <tr>\n",
       "      <th>4</th>\n",
       "      <td>796.0</td>\n",
       "      <td>84.0</td>\n",
       "      <td>95.0</td>\n",
       "      <td>117.0</td>\n",
       "      <td>2.9256</td>\n",
       "      <td>-123.4542</td>\n",
       "      <td>271.7369</td>\n",
       "    </tr>\n",
       "    <tr>\n",
       "      <th>...</th>\n",
       "      <td>...</td>\n",
       "      <td>...</td>\n",
       "      <td>...</td>\n",
       "      <td>...</td>\n",
       "      <td>...</td>\n",
       "      <td>...</td>\n",
       "      <td>...</td>\n",
       "    </tr>\n",
       "    <tr>\n",
       "      <th>395</th>\n",
       "      <td>1612.0</td>\n",
       "      <td>33.0</td>\n",
       "      <td>44.0</td>\n",
       "      <td>61.0</td>\n",
       "      <td>1.6828</td>\n",
       "      <td>-112.4374</td>\n",
       "      <td>582.6840</td>\n",
       "    </tr>\n",
       "    <tr>\n",
       "      <th>396</th>\n",
       "      <td>561.0</td>\n",
       "      <td>61.0</td>\n",
       "      <td>69.0</td>\n",
       "      <td>99.0</td>\n",
       "      <td>1.8116</td>\n",
       "      <td>-110.4882</td>\n",
       "      <td>209.8814</td>\n",
       "    </tr>\n",
       "    <tr>\n",
       "      <th>397</th>\n",
       "      <td>459.0</td>\n",
       "      <td>73.0</td>\n",
       "      <td>87.0</td>\n",
       "      <td>101.0</td>\n",
       "      <td>3.8790</td>\n",
       "      <td>-109.1862</td>\n",
       "      <td>165.7746</td>\n",
       "    </tr>\n",
       "    <tr>\n",
       "      <th>398</th>\n",
       "      <td>1091.0</td>\n",
       "      <td>43.0</td>\n",
       "      <td>51.0</td>\n",
       "      <td>68.0</td>\n",
       "      <td>1.9427</td>\n",
       "      <td>-113.4403</td>\n",
       "      <td>402.6300</td>\n",
       "    </tr>\n",
       "    <tr>\n",
       "      <th>399</th>\n",
       "      <td>662.0</td>\n",
       "      <td>92.0</td>\n",
       "      <td>102.0</td>\n",
       "      <td>128.0</td>\n",
       "      <td>6.6590</td>\n",
       "      <td>-108.3920</td>\n",
       "      <td>230.9006</td>\n",
       "    </tr>\n",
       "  </tbody>\n",
       "</table>\n",
       "<p>397 rows × 7 columns</p>\n",
       "</div>"
      ],
      "text/plain": [
       "     Max_Amp  tDrift50  tDrift90  tDrift100  blnoise    tslope     Energy\n",
       "0     1233.0      61.0      69.0       81.0  11.5110 -108.1349   461.6230\n",
       "1     1319.0      93.0     116.0      135.0   3.7505 -112.9078   510.6010\n",
       "2     1237.0      81.0      89.0      104.0   2.3472 -111.2230   463.7562\n",
       "3     4469.0      90.0      98.0      112.0   1.8966 -111.4219  1754.7053\n",
       "4      796.0      84.0      95.0      117.0   2.9256 -123.4542   271.7369\n",
       "..       ...       ...       ...        ...      ...       ...        ...\n",
       "395   1612.0      33.0      44.0       61.0   1.6828 -112.4374   582.6840\n",
       "396    561.0      61.0      69.0       99.0   1.8116 -110.4882   209.8814\n",
       "397    459.0      73.0      87.0      101.0   3.8790 -109.1862   165.7746\n",
       "398   1091.0      43.0      51.0       68.0   1.9427 -113.4403   402.6300\n",
       "399    662.0      92.0     102.0      128.0   6.6590 -108.3920   230.9006\n",
       "\n",
       "[397 rows x 7 columns]"
      ]
     },
     "execution_count": 8,
     "metadata": {},
     "output_type": "execute_result"
    }
   ],
   "source": [
    "waveforms = pd.read_csv('HPGeData.csv')\n",
    "for x in waveforms.index:\n",
    "    if waveforms.loc[x, 'Energy'] > waveforms.loc[x, 'Max_Amp']:\n",
    "        waveforms.drop(x, inplace = True)\n",
    "waveforms"
   ]
  },
  {
   "cell_type": "code",
   "execution_count": 9,
   "id": "0df80353",
   "metadata": {},
   "outputs": [],
   "source": [
    "def solve_normal_equations(X, y):\n",
    "    '''Returns the optimal parameter vector, w*, given a design matrix X and observation vector y.'''\n",
    "    return np.linalg.solve(X.T @ X, X.T @ y)\n"
   ]
  },
  {
   "cell_type": "code",
   "execution_count": 10,
   "id": "2b8a3d8a",
   "metadata": {},
   "outputs": [],
   "source": [
    "def predict(row):\n",
    "    '''Function that returns the predicted energy for a given row of the waveform features\n",
    "    row will be a 1-d array of [Max_Amp, tDrift50, tDrift90, tDrift100, blnoise, tslope]\n",
    "    please change the return 0 to return predicted energy given these parameters\n",
    "    '''\n",
    "    return (features[0] + row['Max_Amp'] * features[1])"
   ]
  },
  {
   "cell_type": "code",
   "execution_count": 11,
   "id": "c149a346",
   "metadata": {},
   "outputs": [],
   "source": [
    "def calculate_MSE(df):\n",
    "    '''Compute MSE of the predictions corresponding to each row of the given dataframe'''\n",
    "    n = df.shape[0]\n",
    "    total_squared_error = 0\n",
    "    for i in np.arange(n):\n",
    "        predicted = predict(df.iloc[i].drop(\"Energy\"))\n",
    "        actual = df.iloc[i].get('Energy')\n",
    "        squared_error = (actual - predicted)**2\n",
    "        total_squared_error += squared_error\n",
    "    return total_squared_error/n"
   ]
  },
  {
   "cell_type": "code",
   "execution_count": 12,
   "id": "c8858696",
   "metadata": {},
   "outputs": [
    {
     "data": {
      "text/plain": [
       "array([-39.80185391,   0.40323218])"
      ]
     },
     "execution_count": 12,
     "metadata": {},
     "output_type": "execute_result"
    }
   ],
   "source": [
    "waveforms['1'] = 1\n",
    "X_one_feature_model = waveforms [['1', 'Max_Amp']].values\n",
    "y = waveforms['Energy']\n",
    "\n",
    "features = solve_normal_equations(X_one_feature_model, y)\n",
    "features"
   ]
  },
  {
   "cell_type": "code",
   "execution_count": 13,
   "id": "c5a86211",
   "metadata": {},
   "outputs": [
    {
     "data": {
      "text/plain": [
       "457.3834220612997"
      ]
     },
     "execution_count": 13,
     "metadata": {},
     "output_type": "execute_result"
    }
   ],
   "source": [
    "# An example prediction\n",
    "example_row = waveforms.iloc[0].drop(\"Energy\")\n",
    "predict(example_row)"
   ]
  },
  {
   "cell_type": "code",
   "execution_count": 14,
   "id": "98fca549",
   "metadata": {},
   "outputs": [
    {
     "name": "stdout",
     "output_type": "stream",
     "text": [
      "541.4740970666645\n"
     ]
    }
   ],
   "source": [
    "print(calculate_MSE(waveforms))"
   ]
  }
 ],
 "metadata": {
  "kernelspec": {
   "display_name": "Python 3 (ipykernel)",
   "language": "python",
   "name": "python3"
  },
  "language_info": {
   "codemirror_mode": {
    "name": "ipython",
    "version": 3
   },
   "file_extension": ".py",
   "mimetype": "text/x-python",
   "name": "python",
   "nbconvert_exporter": "python",
   "pygments_lexer": "ipython3",
   "version": "3.9.5"
  }
 },
 "nbformat": 4,
 "nbformat_minor": 5
}
